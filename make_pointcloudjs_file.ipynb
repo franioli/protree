{
 "cells": [
  {
   "cell_type": "code",
   "execution_count": 1,
   "metadata": {},
   "outputs": [],
   "source": [
    "from pathlib import Path\n",
    "\n",
    "fname = \"src/pointcloud.js\"\n",
    "\n",
    "fname = Path(fname)\n",
    "\n",
    "dest = \"output/pointcloud.js\"\n",
    "\n",
    "pcd_path = Path(\"data/pointclouds\")"
   ]
  },
  {
   "cell_type": "code",
   "execution_count": 4,
   "metadata": {},
   "outputs": [
    {
     "name": "stdout",
     "output_type": "stream",
     "text": [
      "Line1: /* Loading Potree viewer in the Potree Render Area defined in index.html */\n",
      "Line2: window.viewer = new Potree.Viewer(document.getElementById(\"potree_render_area\"));\n",
      "Line3: \n",
      "Line4: /* Defining appearance settings for rendering in the viewer */\n",
      "Line5: viewer.setEDLEnabled(true); // Enabling Eye-Dome-Lighting option\n",
      "Line6: viewer.setFOV(60); // Defining Field of view\n",
      "Line7: viewer.setPointBudget(2_000_000); // Defining point budget\n",
      "Line8: viewer.setDescription(\"Explore the oriented images of the model on a desktop browser.\"); // Setting a description to be shown on top of viewer\n",
      "Line9: \n",
      "Line10: /* Loading the settings for the Potree sidebar */\n",
      "Line11: viewer.loadGUI(() => {\n",
      "Line12: viewer.setLanguage('en');\n",
      "Line13: viewer.toggleSidebar();\n",
      "Line14: $(\"#menu_appearance\").next().show();\n",
      "Line15: $(\"#menu_tools\").next().show();\n",
      "Line16: /* Creating a new sidebar section for credits */\n",
      "Line17: let section = $(`<h3 id=\"menu_meta\" class=\"accordion-header ui-widget\"><span>Credits</span></h3><div class=\"accordion-content ui-widget pv-menu-list\"></div>`);\n",
      "Line18: let content = section.last();\n",
      "Line19: content.html(`\n",
      "Line20: <div class=\"pv-menu-list\">\n",
      "Line21: <li>INSERT CONTENT DESCRIPTION HERE</li>\n",
      "Line22: </div>\n",
      "Line23: `);\n",
      "Line24: content.hide();\n",
      "Line25: section.first().click(() => content.slideToggle());\n",
      "Line26: section.insertBefore($('#menu_appearance'));\n",
      "Line27: });\n",
      "Line28: \n",
      "Line29: /* Define scene for the bridge */\n",
      "Line30: let scene = new Potree.Scene();\n",
      "Line31: \n",
      "Line32: /* Set scene to be loaded in the Potree Viewer */\n",
      "Line33: viewer.setScene(scene);\n",
      "Line34: \n",
      "Line35: /* Loading point cloud data and its setting for rendering in Potree Viewer */\n",
      "Line36: Potree.loadPointCloud(\"./pointclouds/cloud01/metadata.json\", \"Bridge cloud\", e => {\n",
      "Line37: let pointcloud = e.pointcloud;\n",
      "Line38: let material = pointcloud.material;\n",
      "Line39: material.size = 0.6;\n",
      "Line40: material.pointSizeType = Potree.PointSizeType.ADAPTIVE;\n",
      "Line41: material.shape = Potree.PointShape.CIRCLE;\n",
      "Line42: material.activeAttributeName = \"rgba\"; // change this value to \"classification\" and uncomment the next 2 lines if you desire to show the classified point cloud\n",
      "Line43: // material.intensityRange = [1, 100];\n",
      "Line44: // material.gradient = Potree.Gradients.RAINBOW;\n",
      "Line45: scene.addPointCloud(pointcloud);\n",
      "Line46: viewer.setFrontView();\n",
      "Line47: });\n"
     ]
    }
   ],
   "source": [
    "with open(dest, \"w\") as fdest:\n",
    "    forig = open(fname, \"r\")\n",
    "    count = 0\n",
    "    \n",
    "    while True:\n",
    "        count += 1\n",
    "    \n",
    "        # Get next line from file\n",
    "        line = forig.readline()\n",
    "    \n",
    "        # if line is empty\n",
    "        # end of file is reached\n",
    "        if not line:\n",
    "            break\n",
    "        \n",
    "        print(\"Line{}: {}\".format(count, line.strip()))\n",
    "        fdest.write(line)\n",
    "        newline = line.strip()\n",
    "\n",
    "    forig.close()\n",
    "        \n"
   ]
  }
 ],
 "metadata": {
  "kernelspec": {
   "display_name": "belpy",
   "language": "python",
   "name": "python3"
  },
  "language_info": {
   "codemirror_mode": {
    "name": "ipython",
    "version": 3
   },
   "file_extension": ".py",
   "mimetype": "text/x-python",
   "name": "python",
   "nbconvert_exporter": "python",
   "pygments_lexer": "ipython3",
   "version": "3.8.16"
  },
  "orig_nbformat": 4
 },
 "nbformat": 4,
 "nbformat_minor": 2
}
